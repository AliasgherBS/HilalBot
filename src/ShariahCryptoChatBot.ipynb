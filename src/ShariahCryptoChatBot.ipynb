{
 "cells": [
  {
   "cell_type": "code",
   "execution_count": 1,
   "metadata": {
    "colab": {
     "base_uri": "https://localhost:8080/"
    },
    "id": "kA4Nzh6Tehxp",
    "outputId": "3295586b-2e6a-4247-f5dd-3908e7c69bc0"
   },
   "outputs": [
    {
     "name": "stderr",
     "output_type": "stream",
     "text": [
      "ERROR: Exception:\n",
      "Traceback (most recent call last):\n",
      "  File \"C:\\Users\\Tanveer\\anaconda3\\envs\\halalbot\\lib\\site-packages\\pip\\_vendor\\urllib3\\response.py\", line 438, in _error_catcher\n",
      "    yield\n",
      "  File \"C:\\Users\\Tanveer\\anaconda3\\envs\\halalbot\\lib\\site-packages\\pip\\_vendor\\urllib3\\response.py\", line 561, in read\n",
      "    data = self._fp_read(amt) if not fp_closed else b\"\"\n",
      "  File \"C:\\Users\\Tanveer\\anaconda3\\envs\\halalbot\\lib\\site-packages\\pip\\_vendor\\urllib3\\response.py\", line 527, in _fp_read\n",
      "    return self._fp.read(amt) if amt is not None else self._fp.read()\n",
      "  File \"C:\\Users\\Tanveer\\anaconda3\\envs\\halalbot\\lib\\site-packages\\pip\\_vendor\\cachecontrol\\filewrapper.py\", line 98, in read\n",
      "    data: bytes = self.__fp.read(amt)\n",
      "  File \"C:\\Users\\Tanveer\\anaconda3\\envs\\halalbot\\lib\\http\\client.py\", line 464, in read\n",
      "    s = self.fp.read(amt)\n",
      "  File \"C:\\Users\\Tanveer\\anaconda3\\envs\\halalbot\\lib\\socket.py\", line 705, in readinto\n",
      "    return self._sock.recv_into(b)\n",
      "  File \"C:\\Users\\Tanveer\\anaconda3\\envs\\halalbot\\lib\\ssl.py\", line 1273, in recv_into\n",
      "    return self.read(nbytes, buffer)\n",
      "  File \"C:\\Users\\Tanveer\\anaconda3\\envs\\halalbot\\lib\\ssl.py\", line 1129, in read\n",
      "    return self._sslobj.read(len, buffer)\n",
      "TimeoutError: The read operation timed out\n",
      "\n",
      "During handling of the above exception, another exception occurred:\n",
      "\n",
      "Traceback (most recent call last):\n",
      "  File \"C:\\Users\\Tanveer\\anaconda3\\envs\\halalbot\\lib\\site-packages\\pip\\_internal\\cli\\base_command.py\", line 180, in exc_logging_wrapper\n",
      "    status = run_func(*args)\n",
      "  File \"C:\\Users\\Tanveer\\anaconda3\\envs\\halalbot\\lib\\site-packages\\pip\\_internal\\cli\\req_command.py\", line 245, in wrapper\n",
      "    return func(self, options, args)\n",
      "  File \"C:\\Users\\Tanveer\\anaconda3\\envs\\halalbot\\lib\\site-packages\\pip\\_internal\\commands\\install.py\", line 377, in run\n",
      "    requirement_set = resolver.resolve(\n",
      "  File \"C:\\Users\\Tanveer\\anaconda3\\envs\\halalbot\\lib\\site-packages\\pip\\_internal\\resolution\\resolvelib\\resolver.py\", line 95, in resolve\n",
      "    result = self._result = resolver.resolve(\n",
      "  File \"C:\\Users\\Tanveer\\anaconda3\\envs\\halalbot\\lib\\site-packages\\pip\\_vendor\\resolvelib\\resolvers.py\", line 546, in resolve\n",
      "    state = resolution.resolve(requirements, max_rounds=max_rounds)\n",
      "  File \"C:\\Users\\Tanveer\\anaconda3\\envs\\halalbot\\lib\\site-packages\\pip\\_vendor\\resolvelib\\resolvers.py\", line 427, in resolve\n",
      "    failure_causes = self._attempt_to_pin_criterion(name)\n",
      "  File \"C:\\Users\\Tanveer\\anaconda3\\envs\\halalbot\\lib\\site-packages\\pip\\_vendor\\resolvelib\\resolvers.py\", line 237, in _attempt_to_pin_criterion\n",
      "    for candidate in criterion.candidates:\n",
      "  File \"C:\\Users\\Tanveer\\anaconda3\\envs\\halalbot\\lib\\site-packages\\pip\\_internal\\resolution\\resolvelib\\found_candidates.py\", line 143, in <genexpr>\n",
      "    return (c for c in iterator if id(c) not in self._incompatible_ids)\n",
      "  File \"C:\\Users\\Tanveer\\anaconda3\\envs\\halalbot\\lib\\site-packages\\pip\\_internal\\resolution\\resolvelib\\found_candidates.py\", line 47, in _iter_built\n",
      "    candidate = func()\n",
      "  File \"C:\\Users\\Tanveer\\anaconda3\\envs\\halalbot\\lib\\site-packages\\pip\\_internal\\resolution\\resolvelib\\factory.py\", line 211, in _make_candidate_from_link\n",
      "    self._link_candidate_cache[link] = LinkCandidate(\n",
      "  File \"C:\\Users\\Tanveer\\anaconda3\\envs\\halalbot\\lib\\site-packages\\pip\\_internal\\resolution\\resolvelib\\candidates.py\", line 293, in __init__\n",
      "    super().__init__(\n",
      "  File \"C:\\Users\\Tanveer\\anaconda3\\envs\\halalbot\\lib\\site-packages\\pip\\_internal\\resolution\\resolvelib\\candidates.py\", line 156, in __init__\n",
      "    self.dist = self._prepare()\n",
      "  File \"C:\\Users\\Tanveer\\anaconda3\\envs\\halalbot\\lib\\site-packages\\pip\\_internal\\resolution\\resolvelib\\candidates.py\", line 225, in _prepare\n",
      "    dist = self._prepare_distribution()\n",
      "  File \"C:\\Users\\Tanveer\\anaconda3\\envs\\halalbot\\lib\\site-packages\\pip\\_internal\\resolution\\resolvelib\\candidates.py\", line 304, in _prepare_distribution\n",
      "    return preparer.prepare_linked_requirement(self._ireq, parallel_builds=True)\n",
      "  File \"C:\\Users\\Tanveer\\anaconda3\\envs\\halalbot\\lib\\site-packages\\pip\\_internal\\operations\\prepare.py\", line 525, in prepare_linked_requirement\n",
      "    return self._prepare_linked_requirement(req, parallel_builds)\n",
      "  File \"C:\\Users\\Tanveer\\anaconda3\\envs\\halalbot\\lib\\site-packages\\pip\\_internal\\operations\\prepare.py\", line 596, in _prepare_linked_requirement\n",
      "    local_file = unpack_url(\n",
      "  File \"C:\\Users\\Tanveer\\anaconda3\\envs\\halalbot\\lib\\site-packages\\pip\\_internal\\operations\\prepare.py\", line 168, in unpack_url\n",
      "    file = get_http_url(\n",
      "  File \"C:\\Users\\Tanveer\\anaconda3\\envs\\halalbot\\lib\\site-packages\\pip\\_internal\\operations\\prepare.py\", line 109, in get_http_url\n",
      "    from_path, content_type = download(link, temp_dir.path)\n",
      "  File \"C:\\Users\\Tanveer\\anaconda3\\envs\\halalbot\\lib\\site-packages\\pip\\_internal\\network\\download.py\", line 147, in __call__\n",
      "    for chunk in chunks:\n",
      "  File \"C:\\Users\\Tanveer\\anaconda3\\envs\\halalbot\\lib\\site-packages\\pip\\_internal\\network\\utils.py\", line 63, in response_chunks\n",
      "    for chunk in response.raw.stream(\n",
      "  File \"C:\\Users\\Tanveer\\anaconda3\\envs\\halalbot\\lib\\site-packages\\pip\\_vendor\\urllib3\\response.py\", line 622, in stream\n",
      "    data = self.read(amt=amt, decode_content=decode_content)\n",
      "  File \"C:\\Users\\Tanveer\\anaconda3\\envs\\halalbot\\lib\\site-packages\\pip\\_vendor\\urllib3\\response.py\", line 560, in read\n",
      "    with self._error_catcher():\n",
      "  File \"C:\\Users\\Tanveer\\anaconda3\\envs\\halalbot\\lib\\contextlib.py\", line 153, in __exit__\n",
      "    self.gen.throw(typ, value, traceback)\n",
      "  File \"C:\\Users\\Tanveer\\anaconda3\\envs\\halalbot\\lib\\site-packages\\pip\\_vendor\\urllib3\\response.py\", line 443, in _error_catcher\n",
      "    raise ReadTimeoutError(self._pool, None, \"Read timed out.\")\n",
      "pip._vendor.urllib3.exceptions.ReadTimeoutError: HTTPSConnectionPool(host='files.pythonhosted.org', port=443): Read timed out.\n"
     ]
    }
   ],
   "source": [
    "!pip install --quiet python-magic langchain llama_index unstructured openai chromadb pdfminer.six pytesseract tiktoken deeplake selenium faiss-cpu"
   ]
  },
  {
   "cell_type": "code",
   "execution_count": null,
   "metadata": {},
   "outputs": [],
   "source": [
    "#!pip install gradio"
   ]
  },
  {
   "cell_type": "code",
   "execution_count": null,
   "metadata": {},
   "outputs": [],
   "source": []
  },
  {
   "cell_type": "code",
   "execution_count": 3,
   "metadata": {
    "id": "b-w02gP1MW9X"
   },
   "outputs": [
    {
     "ename": "ModuleNotFoundError",
     "evalue": "No module named 'langchain'",
     "output_type": "error",
     "traceback": [
      "\u001b[1;31m---------------------------------------------------------------------------\u001b[0m",
      "\u001b[1;31mModuleNotFoundError\u001b[0m                       Traceback (most recent call last)",
      "Cell \u001b[1;32mIn[3], line 5\u001b[0m\n\u001b[0;32m      2\u001b[0m \u001b[38;5;28;01mimport\u001b[39;00m \u001b[38;5;21;01mnltk\u001b[39;00m\n\u001b[0;32m      3\u001b[0m \u001b[38;5;28;01mimport\u001b[39;00m \u001b[38;5;21;01mos\u001b[39;00m\n\u001b[1;32m----> 5\u001b[0m \u001b[38;5;28;01mimport\u001b[39;00m \u001b[38;5;21;01mlangchain\u001b[39;00m\n\u001b[0;32m      6\u001b[0m \u001b[38;5;28;01mfrom\u001b[39;00m \u001b[38;5;21;01mlangchain\u001b[39;00m\u001b[38;5;21;01m.\u001b[39;00m\u001b[38;5;21;01mschema\u001b[39;00m \u001b[38;5;28;01mimport\u001b[39;00m Document\n\u001b[0;32m      7\u001b[0m \u001b[38;5;28;01mfrom\u001b[39;00m \u001b[38;5;21;01mlangchain\u001b[39;00m\u001b[38;5;21;01m.\u001b[39;00m\u001b[38;5;21;01mdocument_loaders\u001b[39;00m \u001b[38;5;28;01mimport\u001b[39;00m TextLoader\n",
      "\u001b[1;31mModuleNotFoundError\u001b[0m: No module named 'langchain'"
     ]
    }
   ],
   "source": [
    "import pandas as pd\n",
    "import nltk\n",
    "import os\n",
    "\n",
    "import langchain\n",
    "from langchain.schema import Document\n",
    "from langchain.document_loaders import TextLoader\n",
    "from langchain.embeddings.openai import OpenAIEmbeddings\n",
    "from langchain.vectorstores import Chroma\n",
    "from langchain.text_splitter import CharacterTextSplitter\n",
    "from langchain import OpenAI, VectorDBQA\n",
    "from langchain.document_loaders import DirectoryLoader\n",
    "from langchain.document_loaders import UnstructuredURLLoader\n",
    "from langchain.document_loaders import UnstructuredFileLoader\n",
    "from langchain.chains.conversation.memory import ConversationBufferMemory\n",
    "from langchain.chains import RetrievalQA\n",
    "from langchain.document_loaders import OnlinePDFLoader\n",
    "from langchain.llms import OpenAIChat\n",
    "\n",
    "from langchain.chains import ConversationalRetrievalChain\n",
    "from langchain.document_loaders.csv_loader import CSVLoader\n",
    "from langchain.vectorstores import FAISS\n",
    "import tempfile\n",
    "\n",
    "from langchain.text_splitter import RecursiveCharacterTextSplitter\n",
    "from langchain.vectorstores import FAISS\n",
    "\n",
    "from langchain.chains.question_answering import load_qa_chain\n",
    "from langchain.llms import OpenAI\n",
    "from langchain.prompts import PromptTemplate\n",
    "from langchain.memory import ConversationBufferMemory\n",
    "from langchain.chat_models import ChatOpenAI"
   ]
  },
  {
   "cell_type": "code",
   "execution_count": 2,
   "metadata": {
    "id": "6vf605DqLm_s"
   },
   "outputs": [],
   "source": [
    "# Set your OpenAI API key\n",
    "from dotenv import load_dotenv\n",
    "import os\n",
    "\n",
    "load_dotenv()\n",
    "os.environ[\"OPENAI_API_KEY\"] = os.getenv(\"openai_key\")\n",
    "# Set your OpenAI API key\n",
    "openai_api_key = os.environ['OPENAI_API_KEY']\n"
   ]
  },
  {
   "cell_type": "code",
   "execution_count": 3,
   "metadata": {},
   "outputs": [],
   "source": [
    "from dotenv import load_dotenv\n",
    "import os\n",
    "\n",
    "load_dotenv()\n",
    "\n",
    "open_ai_key=os.getenv(\"openai_key\")"
   ]
  },
  {
   "cell_type": "code",
   "execution_count": 7,
   "metadata": {},
   "outputs": [],
   "source": [
    "import csv\n",
    "\n",
    "def read_protocol_reports(file_path):\n",
    "    protocol_reports = []\n",
    "    with open(file_path, 'r', encoding='utf-8') as file:\n",
    "        lines = file.readlines()\n",
    "        protocol_name = None\n",
    "        report = \"\"\n",
    "        for line in lines:\n",
    "            if line.strip().startswith(\"Name of the Protocol:\"):\n",
    "                if protocol_name is not None:\n",
    "                    protocol_reports.append((protocol_name.strip(), report.strip()))\n",
    "                protocol_name = line[len(\"Name of the Protocol:\"):].strip()\n",
    "                report = \"\"\n",
    "            else:\n",
    "                report += line\n",
    "        # Append the last protocol report\n",
    "        if protocol_name is not None:\n",
    "            protocol_reports.append((protocol_name.strip(), report.strip()))\n",
    "    return protocol_reports\n",
    "\n",
    "def write_to_csv(protocol_reports, csv_file):\n",
    "    with open(csv_file, 'w', newline='', encoding='utf-8') as csvfile:\n",
    "        csvwriter = csv.writer(csvfile)\n",
    "        csvwriter.writerow(['protocol_name', 'report'])\n",
    "        for protocol, report in protocol_reports:\n",
    "            csvwriter.writerow([protocol, report])\n",
    "\n",
    "if __name__ == \"__main__\":\n",
    "    file_path = \"report.txt\"  # Path to your text file\n",
    "    csv_file = \"protocol_reports.csv\"    # Desired name for the CSV file\n",
    "    protocol_reports = read_protocol_reports(file_path)\n",
    "    write_to_csv(protocol_reports, csv_file)\n"
   ]
  },
  {
   "cell_type": "code",
   "execution_count": null,
   "metadata": {},
   "outputs": [],
   "source": []
  },
  {
   "cell_type": "markdown",
   "metadata": {},
   "source": [
    "# Report ChatBot"
   ]
  },
  {
   "cell_type": "code",
   "execution_count": 12,
   "metadata": {},
   "outputs": [
    {
     "name": "stderr",
     "output_type": "stream",
     "text": [
      "C:\\Users\\Bismillah Traders\\anaconda3\\Lib\\site-packages\\langchain_core\\_api\\deprecation.py:117: LangChainDeprecationWarning: The class `langchain_community.embeddings.openai.OpenAIEmbeddings` was deprecated in langchain-community 0.1.0 and will be removed in 0.2.0. Use langchain_openai.OpenAIEmbeddings instead.\n",
      "  warn_deprecated(\n"
     ]
    }
   ],
   "source": [
    "embeddings = OpenAIEmbeddings(openai_api_key=open_ai_key)"
   ]
  },
  {
   "cell_type": "code",
   "execution_count": 13,
   "metadata": {},
   "outputs": [],
   "source": [
    "# load  vector store\n",
    "reportsearch = FAISS.load_local(\"faiss_index_report\", embeddings)"
   ]
  },
  {
   "cell_type": "code",
   "execution_count": 14,
   "metadata": {},
   "outputs": [
    {
     "name": "stderr",
     "output_type": "stream",
     "text": [
      "C:\\Users\\Bismillah Traders\\anaconda3\\Lib\\site-packages\\langchain_core\\_api\\deprecation.py:117: LangChainDeprecationWarning: The class `langchain_community.chat_models.openai.ChatOpenAI` was deprecated in langchain-community 0.1.0 and will be removed in 0.2.0. Use langchain_openai.ChatOpenAI instead.\n",
      "  warn_deprecated(\n"
     ]
    }
   ],
   "source": [
    "template = \"\"\"Please provide accurate and intelligent responses to our clients as a virtual assistant specializing in Crypto Currencies. Begin the conversation with a friendly greeting. When discussing information or providing recommendations about \n",
    "Crypto Currencies, make sure to use accurate information from the knowledge base provided in {context}.If a question is asked that \n",
    "is not related to Crypto Currencies or falls outside the scope of this document, kindly reply with the response, \\\"I'm sorry, \n",
    "but the available information is limited as I am an AI assistant.\\\" Please refer to the chat history in {chat_history} and \n",
    "respond to the human input as follows: \\\"Human: {human_input} Virtual Assistant:\\\"\"\"\"\n",
    "\n",
    "\n",
    "\n",
    "\n",
    "prompt = PromptTemplate(\n",
    "    input_variables=[\"chat_history\", \"human_input\", \"context\"], template=template\n",
    ")\n",
    "memory_report = ConversationBufferMemory(memory_key=\"chat_history\", input_key=\"human_input\", max_history=2)\n",
    "chain_report = load_qa_chain(ChatOpenAI(model_name=\"gpt-4\", temperature=0,max_tokens=2000), chain_type=\"stuff\", memory=memory_report, prompt=prompt)\n"
   ]
  },
  {
   "cell_type": "code",
   "execution_count": 35,
   "metadata": {},
   "outputs": [],
   "source": [
    "query = \"is smardex a good investment?\""
   ]
  },
  {
   "cell_type": "code",
   "execution_count": 36,
   "metadata": {},
   "outputs": [],
   "source": [
    "docs = reportsearch.similarity_search(query)"
   ]
  },
  {
   "cell_type": "code",
   "execution_count": 37,
   "metadata": {},
   "outputs": [
    {
     "data": {
      "text/plain": [
       "[Document(page_content=\"Potential Shariah Concerns in SmarDex Protocol and SDX Token:\\n* Gambling (قمار, ميسر): There's no indication that SDX is particularly used for gambling or speculative activities.\\n* Interest (Usury): The tokens or the system does not seem to be dependent on interest-based transactions. However, staking rewards or any other returns need to be separately evaluated. If the farming and staking are not fixed and interest-based, they are permissible.\\n23.4. Shariah Opinion of the SmarDex Protocol and SDX Token:\\nIn conclusion, from a Shariah perspective, both the SmarDex Protocol and the SDX token can be characterized as permissible. However, it does not mean that all the listed tokens and the products on the platform are also Shariah compliant. The permissibility of the products is determined by their application and usage. Users should also ensure that their interactions/transactions, such as trading, investment, and holding, with the protocol or token are aligned with Islamic principles as well.\", metadata={'protocol': 'SmarDex'}),\n",
       " Document(page_content='SmarDex Protocol:\\nDescription of SmarDex:\\nSmarDex Protocol is a decentralized exchange (DEX) platform that operates on the Binance Smart Chain (BSC). It aims to provide a secure, efficient, and user-friendly trading experience for its users.\\nMain Objectives of SmarDex:\\n* Decentralization: SmarDex emphasizes the importance of decentralization, ensuring that users have full control over their assets without relying on centralized intermediaries.\\n* Interoperability: The protocol aims to bridge the gap between different blockchains, allowing for seamless cross-chain transactions.\\n* Efficiency: SmarDex focuses on providing a fast and efficient trading experience, minimizing latency and maximizing throughput.\\nMechanics of SmarDex:\\n* Automated Market Makers (AMMs): SmarDex uses AMMs to facilitate trades, ensuring liquidity and reducing the need for order books.\\n* Yield Farming: Users can earn rewards by providing liquidity to the platform, incentivizing participation and ensuring a steady supply of assets for trading.\\n* Cross-chain Swaps: The protocol supports cross-chain transactions, allowing users to trade assets from different blockchains without the need for intermediaries.\\nProducts of SmarDex:\\n* SmarDex Swap: A platform for swapping tokens in a decentralized manner.\\n* SmarDex Pool: Allows users to add liquidity to the platform and earn rewards.\\n* SmarDex Bridge: Facilitates cross-chain transactions, bridging the gap between different blockchains.\\n23.2. SmarDex Token (SDX):\\nDescription of SDX Token:\\nSDX is the native utility token of the SmarDex Protocol. It plays a crucial role in the ecosystem, facilitating various functions and serving as a medium of exchange.\\nMain Usage of SDX Token:\\n* Governance: SDX token holders can participate in the governance of the protocol, making decisions on upgrades, changes, and other important matters.\\n* Fees: Users can pay trading fees on the platform using SDX tokens, often at a discounted rate.\\n* Staking: SDX tokens can be staked to earn rewards, incentivizing long-term holding and participation in the ecosystem.\\nMain Functions of SDX Token:\\n* Liquidity Provision: SDX tokens can be used to provide liquidity to the platform, ensuring a steady supply of assets for trading.\\n* Rewards: Users who stake SDX tokens or provide liquidity can earn rewards in the form of additional SDX tokens.\\n* Collateral: SDX tokens can be used as collateral for various financial products and services offered on the platform.\\n\\n\\n23.3. Shariah Description of the SmarDex Protocol and SDX Token:\\nThe SmarDex Protocol functions as a decentralized exchange, facilitating the trade of digital assets without the need for intermediaries. The protocol can be seen as a digital marketplace (سوق) where transactions occur. As long as the items being traded and the manner of trade adhere to Islamic principles, the platform itself is permissible (مباح).\\nThe SDX token can be viewed as property or asset in the digital realm. In Islamic law, anything that holds value and can be owned is considered property. Since SDX has value and can be traded, it fits this definition.', metadata={'protocol': 'SmarDex'}),\n",
       " Document(page_content='22.3. Shariah Opinion of the MicrovisionChain Protocol and SPACE Token:\\nIn conclusion, from a broad perspective, the MVC platform and its token do not seem to have inherent characteristics that would make them non-compliant with Shariah principles. The token can be considered a valid property in Islamic law. Hence, the protocol and the tokens are permissible to be used. However, their permissibility is also determined by their application and usage. Users should also ensure that their interactions/transactions, such as trading, investment, and holding, with the protocol or token are aligned with Islamic principles as well.\\n_', metadata={'protocol': 'MicrovisionChain'}),\n",
       " Document(page_content='Main Function of the Sandbox Protocol and SAND Token: \\nThe Sandbox is a blockchain-based virtual world allowing users to create, build, buy and sell digital assets in the form of a game. By combining the powers of decentralized autonomous organizations (DAO) and non-fungible tokens (NFTs), the Sandbox creates a decentralized platform for a thriving gaming community. \\nAccording to the official whitepaper, the Sandbox platform’s main mission is to successfully introduce blockchain technology in mainstream gaming. The platform focuses on facilitating a creative “play-to-earn” model, which allows users to be both creators and gamers simultaneously. The Sandbox employs the powers of blockchain technology by introducing the SAND utility token, which facilitates transactions on the platform. \\nSAND is the utility token of the Sandbox’s versatile ecosystem and can be used for creating ASSET tokens, buying and selling ASSETS on the marketplace, participating in transactions involving LAND, and to interact with user-generated experiences. \\nSAND is also the governance token of the Sandbox DAO, which means that ownership of SAND tokens grants users voting rights to improve the platform as they wish. \\n30.2. Shariah Description of the Sandbox Protocol and SAND Token: \\nThe Sandbox is software running on Ethereum that operates a decentralized virtual gaming world. At its core, the Sandbox is a game in which players can buy digital plots of land, called LAND, and create experiences on top of them to share with other users. \\n30.3. Shariah Opinion of the Sandbox Protocol and SAND Token: \\nTwo issues can be raised regarding Sandbox, one is should Muslims be encouraged in spending time in gaming? One may argue that Sandbox is not a game in a true sense as it is being monetized and therefore should be seen as an investment. If that is the case, then another issue would be to ensure that the investment method on the Sandbox is also shariah compliant which at this stage could not be verified.', metadata={'protocol': 'Sandbox'})]"
      ]
     },
     "execution_count": 37,
     "metadata": {},
     "output_type": "execute_result"
    }
   ],
   "source": [
    "docs"
   ]
  },
  {
   "cell_type": "code",
   "execution_count": 38,
   "metadata": {},
   "outputs": [],
   "source": [
    "output = chain_report({\"input_documents\": [docs[0]], \"human_input\": query}, return_only_outputs=False)"
   ]
  },
  {
   "cell_type": "code",
   "execution_count": 39,
   "metadata": {},
   "outputs": [
    {
     "data": {
      "text/plain": [
       "\"As an AI assistant, I'm not able to provide personal investment advice. However, I can tell you that the SmarDex Protocol and SDX token are considered permissible from a Shariah perspective. They are not used for gambling or speculative activities, and the system is not dependent on interest-based transactions. However, this does not mean that all tokens and products on the platform are also Shariah compliant. The permissibility is determined by their application and usage. It's always recommended to do your own research and consider your own financial situation and risk tolerance before making any investment decisions.\""
      ]
     },
     "execution_count": 39,
     "metadata": {},
     "output_type": "execute_result"
    }
   ],
   "source": [
    "output['output_text']"
   ]
  },
  {
   "cell_type": "code",
   "execution_count": null,
   "metadata": {},
   "outputs": [],
   "source": []
  },
  {
   "cell_type": "code",
   "execution_count": null,
   "metadata": {},
   "outputs": [],
   "source": [
    "# Langchain url loader"
   ]
  },
  {
   "cell_type": "code",
   "execution_count": null,
   "metadata": {},
   "outputs": [],
   "source": [
    "from googleapiclient.discovery import build\n",
    "import pprint\n",
    "\n",
    "def google_search(search_term, api_key, cse_id, **kwargs):\n",
    "    service = build(\"customsearch\", \"v1\", developerKey=api_key)\n",
    "    res = service.cse().list(q=search_term, cx=cse_id, **kwargs).execute()\n",
    "    return res\n",
    "\n",
    "if __name__ == '__main__':\n",
    "    api_key = 'YOUR_API_KEY'\n",
    "    cse_id = 'YOUR_CSE_ID'\n",
    "\n",
    "    search_term = 'btc'\n",
    "    results = google_search(search_term, api_key, cse_id, num=3)\n",
    "\n",
    "    # Extract and print the top 3 URLs\n",
    "    top_links = [item['link'] for item in results['items']]\n",
    "    pprint.pprint(top_links)\n"
   ]
  }
 ],
 "metadata": {
  "accelerator": "GPU",
  "colab": {
   "gpuType": "V100",
   "machine_shape": "hm",
   "provenance": []
  },
  "kernelspec": {
   "display_name": "Python 3 (ipykernel)",
   "language": "python",
   "name": "python3"
  },
  "language_info": {
   "codemirror_mode": {
    "name": "ipython",
    "version": 3
   },
   "file_extension": ".py",
   "mimetype": "text/x-python",
   "name": "python",
   "nbconvert_exporter": "python",
   "pygments_lexer": "ipython3",
   "version": "3.11.5"
  }
 },
 "nbformat": 4,
 "nbformat_minor": 1
}
